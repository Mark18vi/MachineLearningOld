{
 "cells": [
  {
   "cell_type": "code",
   "execution_count": 7,
   "metadata": {
    "scrolled": true
   },
   "outputs": [],
   "source": [
    "#Output Formatting"
   ]
  },
  {
   "cell_type": "code",
   "execution_count": 12,
   "metadata": {},
   "outputs": [
    {
     "name": "stdout",
     "output_type": "stream",
     "text": [
      "Adam scored 10/10\n"
     ]
    }
   ],
   "source": [
    "a=10\n",
    "b='Adam'\n",
    "print('{1} scored {0}/10'.format(a,b))"
   ]
  },
  {
   "cell_type": "code",
   "execution_count": 21,
   "metadata": {},
   "outputs": [
    {
     "name": "stdout",
     "output_type": "stream",
     "text": [
      "The character name is Andy and his age is 10 and he is X standard\n"
     ]
    }
   ],
   "source": [
    "name = 'Andy'\n",
    "age = 10\n",
    "print('The character name is {0} and his age is {1} and he is {std} standard'.format(name,age,std='X'))"
   ]
  },
  {
   "cell_type": "code",
   "execution_count": 33,
   "metadata": {},
   "outputs": [],
   "source": [
    "# Input"
   ]
  },
  {
   "cell_type": "code",
   "execution_count": 35,
   "metadata": {},
   "outputs": [
    {
     "name": "stdout",
     "output_type": "stream",
     "text": [
      "Enter Age 10\n",
      "The age of the candidate is  10\n"
     ]
    }
   ],
   "source": [
    "Age = input(\"Enter Age \")\n",
    "print('The age of the candidate is ', Age)"
   ]
  },
  {
   "cell_type": "code",
   "execution_count": 47,
   "metadata": {},
   "outputs": [],
   "source": [
    "# Operators"
   ]
  },
  {
   "cell_type": "code",
   "execution_count": 39,
   "metadata": {},
   "outputs": [],
   "source": [
    "#Arithmetic operators"
   ]
  },
  {
   "cell_type": "code",
   "execution_count": 44,
   "metadata": {},
   "outputs": [
    {
     "name": "stdout",
     "output_type": "stream",
     "text": [
      "30\n",
      "-10\n",
      "200\n",
      "0.5\n",
      "10\n",
      "0\n",
      "100000000000000000000\n",
      "30\n"
     ]
    }
   ],
   "source": [
    "first_number = 10\n",
    "second_number = 20\n",
    "print(first_number+second_number)\n",
    "print(first_number-second_number)\n",
    "print(first_number*second_number)\n",
    "print(first_number/second_number)\n",
    "print(first_number%second_number)\n",
    "print(first_number//second_number)\n",
    "print(first_number**second_number)\n",
    "print(first_number^second_number)"
   ]
  },
  {
   "cell_type": "code",
   "execution_count": 46,
   "metadata": {},
   "outputs": [],
   "source": [
    "#Comparision operators"
   ]
  },
  {
   "cell_type": "code",
   "execution_count": 51,
   "metadata": {},
   "outputs": [
    {
     "name": "stdout",
     "output_type": "stream",
     "text": [
      "False\n",
      "True\n",
      "False\n",
      "True\n",
      "False\n",
      "True\n"
     ]
    }
   ],
   "source": [
    "print(first_number>second_number)\n",
    "print(first_number<second_number)\n",
    "print(first_number==second_number)\n",
    "print(first_number!=second_number)\n",
    "print(first_number>=second_number)\n",
    "print(first_number<=second_number)"
   ]
  },
  {
   "cell_type": "code",
   "execution_count": 52,
   "metadata": {},
   "outputs": [],
   "source": [
    "#logical operators"
   ]
  },
  {
   "cell_type": "code",
   "execution_count": 57,
   "metadata": {},
   "outputs": [
    {
     "name": "stdout",
     "output_type": "stream",
     "text": [
      "False\n",
      "True\n"
     ]
    }
   ],
   "source": [
    "first_number1 = True\n",
    "second_number2 = False\n",
    "print(first_number1 and second_number2)\n",
    "print(first_number1 or second_number2)\n",
    "#print(first_number1 not second_number2)"
   ]
  },
  {
   "cell_type": "code",
   "execution_count": 59,
   "metadata": {},
   "outputs": [],
   "source": [
    "#Bitwise Operators"
   ]
  },
  {
   "cell_type": "code",
   "execution_count": 61,
   "metadata": {},
   "outputs": [
    {
     "name": "stdout",
     "output_type": "stream",
     "text": [
      "0\n",
      "30\n",
      "-21\n",
      "30\n",
      "0\n",
      "10485760\n"
     ]
    }
   ],
   "source": [
    "a =10\n",
    "b= 20\n",
    "print(a&b)\n",
    "print(a|b)\n",
    "print(~b)\n",
    "print(a^b)\n",
    "print(a>>b)\n",
    "print(a<<b)"
   ]
  },
  {
   "cell_type": "code",
   "execution_count": 62,
   "metadata": {},
   "outputs": [],
   "source": [
    "# Assignment operators"
   ]
  },
  {
   "cell_type": "code",
   "execution_count": 64,
   "metadata": {},
   "outputs": [
    {
     "name": "stdout",
     "output_type": "stream",
     "text": [
      "30\n",
      "-20\n"
     ]
    }
   ],
   "source": [
    "a+=10\n",
    "b-=20\n",
    "print(a)\n",
    "print(b)"
   ]
  },
  {
   "cell_type": "code",
   "execution_count": 65,
   "metadata": {},
   "outputs": [],
   "source": [
    "#Special Operators"
   ]
  },
  {
   "cell_type": "code",
   "execution_count": 66,
   "metadata": {},
   "outputs": [
    {
     "name": "stdout",
     "output_type": "stream",
     "text": [
      "False\n"
     ]
    }
   ],
   "source": [
    "a1 = 12\n",
    "b1 =15\n",
    "\n",
    "print(a1 is b1)"
   ]
  },
  {
   "cell_type": "code",
   "execution_count": 67,
   "metadata": {},
   "outputs": [
    {
     "name": "stdout",
     "output_type": "stream",
     "text": [
      "True\n"
     ]
    }
   ],
   "source": [
    "a2 = 12\n",
    "b2 = 12\n",
    "print(a2 is b2)"
   ]
  },
  {
   "cell_type": "code",
   "execution_count": 69,
   "metadata": {},
   "outputs": [
    {
     "name": "stdout",
     "output_type": "stream",
     "text": [
      "False\n"
     ]
    }
   ],
   "source": [
    "l1 = [1,2,3]\n",
    "l2 = [1,2,3]\n",
    "print(l1 is l2)"
   ]
  },
  {
   "cell_type": "code",
   "execution_count": 72,
   "metadata": {},
   "outputs": [
    {
     "name": "stdout",
     "output_type": "stream",
     "text": [
      "True\n",
      "False\n"
     ]
    }
   ],
   "source": [
    "s1 = 'AIc'\n",
    "s2 = 'AIc'\n",
    "print(s1 is s2)\n",
    "print(s1 is not s2)"
   ]
  },
  {
   "cell_type": "code",
   "execution_count": 73,
   "metadata": {},
   "outputs": [],
   "source": [
    "#Membership Operators"
   ]
  },
  {
   "cell_type": "code",
   "execution_count": 79,
   "metadata": {},
   "outputs": [],
   "source": [
    "## in or not in are membership operators ##"
   ]
  },
  {
   "cell_type": "code",
   "execution_count": 81,
   "metadata": {},
   "outputs": [
    {
     "name": "stdout",
     "output_type": "stream",
     "text": [
      "True\n",
      "False\n"
     ]
    }
   ],
   "source": [
    "lst = [1, 2, 3]\n",
    "print(1 in lst)\n",
    "print(4 in lst)"
   ]
  },
  {
   "cell_type": "code",
   "execution_count": 83,
   "metadata": {},
   "outputs": [
    {
     "name": "stdout",
     "output_type": "stream",
     "text": [
      "True\n",
      "False\n",
      "False\n"
     ]
    }
   ],
   "source": [
    "dic = {1:'s',2:'d'}\n",
    "print(1 in dic)\n",
    "print(1 not in dic)\n",
    "print('s' in dic) # cannot fetch values"
   ]
  },
  {
   "cell_type": "code",
   "execution_count": 85,
   "metadata": {},
   "outputs": [],
   "source": [
    "#Control flow"
   ]
  },
  {
   "cell_type": "code",
   "execution_count": 91,
   "metadata": {},
   "outputs": [
    {
     "name": "stdout",
     "output_type": "stream",
     "text": [
      "The value is not greater\n",
      "The random variable\n"
     ]
    }
   ],
   "source": [
    "a = 10\n",
    "if a>=10:\n",
    "    print('The value is not greater')\n",
    "print('The random variable')    "
   ]
  },
  {
   "cell_type": "code",
   "execution_count": 92,
   "metadata": {},
   "outputs": [
    {
     "name": "stdout",
     "output_type": "stream",
     "text": [
      "The value is not greater\n",
      "The random variable\n"
     ]
    }
   ],
   "source": [
    "if -10:\n",
    "    print('The value is not greater')\n",
    "print('The random variable')  "
   ]
  },
  {
   "cell_type": "code",
   "execution_count": 93,
   "metadata": {},
   "outputs": [
    {
     "name": "stdout",
     "output_type": "stream",
     "text": [
      "The random variable\n"
     ]
    }
   ],
   "source": [
    "if 0:\n",
    "    print('The value is not greater')\n",
    "print('The random variable')  "
   ]
  },
  {
   "cell_type": "code",
   "execution_count": 94,
   "metadata": {},
   "outputs": [
    {
     "name": "stdout",
     "output_type": "stream",
     "text": [
      "The random variable\n"
     ]
    }
   ],
   "source": [
    "if None:\n",
    "    print('The value is not greater')\n",
    "print('The random variable')  "
   ]
  },
  {
   "cell_type": "code",
   "execution_count": 95,
   "metadata": {},
   "outputs": [
    {
     "name": "stdout",
     "output_type": "stream",
     "text": [
      "The value is not greater\n",
      "The random variable\n"
     ]
    }
   ],
   "source": [
    "if 10:\n",
    "    print('The value is not greater')\n",
    "print('The random variable')  "
   ]
  },
  {
   "cell_type": "code",
   "execution_count": 96,
   "metadata": {},
   "outputs": [
    {
     "name": "stdout",
     "output_type": "stream",
     "text": [
      "The random variable\n"
     ]
    }
   ],
   "source": [
    "if False:\n",
    "    print('The value is not greater')\n",
    "print('The random variable')  "
   ]
  },
  {
   "cell_type": "code",
   "execution_count": 97,
   "metadata": {},
   "outputs": [],
   "source": [
    "##Nested if"
   ]
  },
  {
   "cell_type": "code",
   "execution_count": 99,
   "metadata": {},
   "outputs": [
    {
     "name": "stdout",
     "output_type": "stream",
     "text": [
      "Greater\n"
     ]
    }
   ],
   "source": [
    "num = 10.5\n",
    "if num>10:\n",
    "    if num>=11:\n",
    "        print(\"Nort greater\")\n",
    "    print('Greater')\n",
    "elif num<10:\n",
    "    print('Random value')\n",
    "        "
   ]
  },
  {
   "cell_type": "code",
   "execution_count": 100,
   "metadata": {},
   "outputs": [
    {
     "name": "stdout",
     "output_type": "stream",
     "text": [
      "The largest number is 40\n"
     ]
    }
   ],
   "source": [
    "num1 = 20\n",
    "num2 = 40\n",
    "num3 = 15\n",
    "if(num1>=num2)and(num1>=num3):\n",
    "    num = num1\n",
    "elif(num2>=num1)and(num2>=num3):\n",
    "    num = num2\n",
    "else:\n",
    "    num = num3\n",
    "print('The largest number is {}'.format(num))    "
   ]
  },
  {
   "cell_type": "code",
   "execution_count": 101,
   "metadata": {},
   "outputs": [],
   "source": [
    "##While loop"
   ]
  },
  {
   "cell_type": "code",
   "execution_count": 104,
   "metadata": {},
   "outputs": [
    {
     "name": "stdout",
     "output_type": "stream",
     "text": [
      "Enter the prime:13\n",
      "13 is a prime\n"
     ]
    }
   ],
   "source": [
    "num1 = int(input('Enter the prime:'))\n",
    "\n",
    "isDivisible = False\n",
    "\n",
    "i = 2;\n",
    "\n",
    "while i<num1:\n",
    "    if num1%i == 0:\n",
    "        isDivisible = True\n",
    "        print('{} is divisible by{}'.format(num1,i))\n",
    "    i +=1\n",
    "    \n",
    "if isDivisible:\n",
    "    print('{} is not a prime'.format(num1))\n",
    "else:\n",
    "    print('{} is a prime'.format(num1))"
   ]
  },
  {
   "cell_type": "code",
   "execution_count": 3,
   "metadata": {},
   "outputs": [],
   "source": [
    "##For loop"
   ]
  },
  {
   "cell_type": "code",
   "execution_count": 4,
   "metadata": {},
   "outputs": [
    {
     "name": "stdout",
     "output_type": "stream",
     "text": [
      "The product of the list is 12000000\n"
     ]
    }
   ],
   "source": [
    "lst = [10,20,30,40,50]\n",
    "product = 1\n",
    "ele = 0\n",
    "\n",
    "for ele in lst:\n",
    "    product *=ele\n",
    "    \n",
    "print(\"The product of the list is {}\".format(product))    "
   ]
  },
  {
   "cell_type": "code",
   "execution_count": 5,
   "metadata": {},
   "outputs": [
    {
     "name": "stdout",
     "output_type": "stream",
     "text": [
      "0\n",
      "1\n",
      "2\n",
      "3\n",
      "4\n",
      "5\n",
      "6\n",
      "7\n",
      "8\n",
      "9\n"
     ]
    }
   ],
   "source": [
    "##Range()\n",
    "\n",
    "for content in range(10):\n",
    "    print(content)"
   ]
  },
  {
   "cell_type": "code",
   "execution_count": 6,
   "metadata": {},
   "outputs": [
    {
     "name": "stdout",
     "output_type": "stream",
     "text": [
      "1\n",
      "3\n",
      "5\n",
      "7\n",
      "9\n",
      "11\n",
      "13\n",
      "15\n",
      "17\n",
      "19\n",
      "21\n",
      "23\n"
     ]
    }
   ],
   "source": [
    "# printing a range of elements from (1,20) with a step size\n",
    "\n",
    "for ele in range(1,25,2):\n",
    "    print(ele)"
   ]
  },
  {
   "cell_type": "code",
   "execution_count": 9,
   "metadata": {},
   "outputs": [
    {
     "name": "stdout",
     "output_type": "stream",
     "text": [
      "Man\n",
      "Murali\n",
      "Madhu\n",
      "Srinu\n",
      "Band\n",
      "seeker\n",
      "/////////\n",
      "Man\n",
      "Murali\n",
      "Madhu\n",
      "Srinu\n",
      "Band\n",
      "seeker\n"
     ]
    }
   ],
   "source": [
    "engi = [\"Man\",\"Murali\",\"Madhu\",\"Srinu\",\"Band\",\"seeker\"]\n",
    "# itering over the list using index\n",
    "for index in range(len(engi)):\n",
    "    print(engi[index])\n",
    "    \n",
    "print(\"/////////\")    \n",
    "\n",
    "for employee in engi:\n",
    "    print(employee)"
   ]
  },
  {
   "cell_type": "code",
   "execution_count": 10,
   "metadata": {},
   "outputs": [
    {
     "name": "stdout",
     "output_type": "stream",
     "text": [
      "Man\n",
      "Murali\n",
      "Madhu\n",
      "Srinu\n",
      "Band\n",
      "seeker\n",
      "No more items left\n"
     ]
    }
   ],
   "source": [
    "#For loop with else\n",
    "\n",
    "for teamates in engi:\n",
    "    print(teamates)\n",
    "else:\n",
    "    print(\"No more items left\")"
   ]
  },
  {
   "cell_type": "code",
   "execution_count": null,
   "metadata": {},
   "outputs": [],
   "source": [
    "# "
   ]
  }
 ],
 "metadata": {
  "kernelspec": {
   "display_name": "Python 3",
   "language": "python",
   "name": "python3"
  },
  "language_info": {
   "codemirror_mode": {
    "name": "ipython",
    "version": 3
   },
   "file_extension": ".py",
   "mimetype": "text/x-python",
   "name": "python",
   "nbconvert_exporter": "python",
   "pygments_lexer": "ipython3",
   "version": "3.7.3"
  }
 },
 "nbformat": 4,
 "nbformat_minor": 2
}
